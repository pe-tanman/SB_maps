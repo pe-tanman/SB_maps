{
 "cells": [
  {
   "cell_type": "code",
   "execution_count": 1,
   "metadata": {},
   "outputs": [],
   "source": [
    "import sympy as sym\n",
    "from sympy.plotting import plot\n",
    "sym.init_printing(use_unicode=True)\n",
    "%matplotlib inline"
   ]
  },
  {
   "cell_type": "code",
   "execution_count": 49,
   "metadata": {},
   "outputs": [],
   "source": [
    "a, b, c, d, x, y = sym.symbols(\"a b c d x y\")"
   ]
  },
  {
   "cell_type": "code",
   "execution_count": 19,
   "metadata": {},
   "outputs": [],
   "source": [
    "f = sym.Function('f')\n",
    "g = sym.Function('g')"
   ]
  },
  {
   "cell_type": "code",
   "execution_count": 17,
   "metadata": {},
   "outputs": [
    {
     "name": "stderr",
     "output_type": "stream",
     "text": [
      "C:\\Users\\petan\\AppData\\Local\\Temp\\ipykernel_13564\\2713216761.py:1: SymPyDeprecationWarning: \n",
      "\n",
      "Eq(expr) with a single argument with the right-hand side\n",
      "defaulting to 0 is deprecated. Use Eq(expr, 0) instead.\n",
      "\n",
      "See https://docs.sympy.org/latest/explanation/active-deprecations.html#deprecated-eq-expr\n",
      "for details.\n",
      "\n",
      "This has been deprecated since SymPy version 1.5. It\n",
      "will be removed in a future version of SymPy.\n",
      "\n",
      "  eq = sym.Eq(f(x).diff(x,2) + f(x).diff(x,1) + 4 * f(x))\n"
     ]
    },
    {
     "data": {
      "image/png": "[encoded data removed]",
      "text/latex": [
       "$\\displaystyle 4 f{\\left(x \\right)} + \\frac{d}{d x} f{\\left(x \\right)} + \\frac{d^{2}}{d x^{2}} f{\\left(x \\right)} = 0$"
      ],
      "text/plain": [
       "                      2          \n",
       "         d           d           \n",
       "4⋅f(x) + ──(f(x)) + ───(f(x)) = 0\n",
       "         dx           2          \n",
       "                    dx           "
      ]
     },
     "execution_count": 17,
     "metadata": {},
     "output_type": "execute_result"
    }
   ],
   "source": [
    "#微分方程式　f''(x) + f'(x)+4f(x) = 0\n",
    "eq = sym.Eq(f(x).diff(x,2) + f(x).diff(x,1) + 4 * f(x))\n",
    "eq"
   ]
  },
  {
   "cell_type": "code",
   "execution_count": 46,
   "metadata": {},
   "outputs": [
    {
     "data": {
      "image/png": "[encoded data removed]",
      "text/latex": [
       "$\\displaystyle f{\\left(x \\right)} + \\frac{d^{2}}{d x^{2}} f{\\left(x \\right)} = \\sin{\\left(x \\right)} + \\frac{1}{\\sin{\\left(x \\right)}}$"
      ],
      "text/plain": [
       "         2                        \n",
       "        d                     1   \n",
       "f(x) + ───(f(x)) = sin(x) + ──────\n",
       "         2                  sin(x)\n",
       "       dx                         "
      ]
     },
     "execution_count": 46,
     "metadata": {},
     "output_type": "execute_result"
    }
   ],
   "source": [
    "#微分方程式　f''(x)+f(x)=1/sinx+sinx\n",
    "eq = sym.Eq(f(x).diff(x,2) + f(x), 1/sym.sin(x)+sym.sin(x))\n",
    "eq"
   ]
  },
  {
   "cell_type": "code",
   "execution_count": 53,
   "metadata": {},
   "outputs": [
    {
     "ename": "NotImplementedError",
     "evalue": "The given ODE -(-a + Derivative(f(x), (x, 2)))**(1/d)/(b + c*f(x)) + Derivative(f(x), x) cannot be solved by the factorable group method",
     "output_type": "error",
     "traceback": [
      "\u001b[1;31m---------------------------------------------------------------------------\u001b[0m",
      "\u001b[1;31mNotImplementedError\u001b[0m                       Traceback (most recent call last)",
      "\u001b[1;32mc:\\Users\\petan\\Downloads\\application\\07.VSCode_javascript\\SB_maps\\simulation.ipynb セル 6\u001b[0m line \u001b[0;36m<cell line: 1>\u001b[1;34m()\u001b[0m\n\u001b[1;32m----> <a href='vscode-notebook-cell:/c%3A/Users/petan/Downloads/application/07.VSCode_javascript/SB_maps/simulation.ipynb#W4sZmlsZQ%3D%3D?line=0'>1</a>\u001b[0m ans \u001b[39m=\u001b[39m sym\u001b[39m.\u001b[39;49mdsolve(eq)\n\u001b[0;32m      <a href='vscode-notebook-cell:/c%3A/Users/petan/Downloads/application/07.VSCode_javascript/SB_maps/simulation.ipynb#W4sZmlsZQ%3D%3D?line=1'>2</a>\u001b[0m ans\n",
      "File \u001b[1;32mc:\\Users\\petan\\anaconda3\\envs\\forVSCode\\lib\\site-packages\\sympy\\solvers\\ode\\ode.py:640\u001b[0m, in \u001b[0;36mdsolve\u001b[1;34m(eq, func, hint, simplify, ics, xi, eta, x0, n, **kwargs)\u001b[0m\n\u001b[0;32m    637\u001b[0m \u001b[39melse\u001b[39;00m:\n\u001b[0;32m    638\u001b[0m     \u001b[39m# The key 'hint' stores the hint needed to be solved for.\u001b[39;00m\n\u001b[0;32m    639\u001b[0m     hint \u001b[39m=\u001b[39m hints[\u001b[39m'\u001b[39m\u001b[39mhint\u001b[39m\u001b[39m'\u001b[39m]\n\u001b[1;32m--> 640\u001b[0m     \u001b[39mreturn\u001b[39;00m _helper_simplify(eq, hint, hints, simplify, ics\u001b[39m=\u001b[39;49mics)\n",
      "File \u001b[1;32mc:\\Users\\petan\\anaconda3\\envs\\forVSCode\\lib\\site-packages\\sympy\\solvers\\ode\\ode.py:669\u001b[0m, in \u001b[0;36m_helper_simplify\u001b[1;34m(eq, hint, match, simplify, ics, **kwargs)\u001b[0m\n\u001b[0;32m    664\u001b[0m \u001b[39mif\u001b[39;00m simplify:\n\u001b[0;32m    665\u001b[0m     \u001b[39m# odesimp() will attempt to integrate, if necessary, apply constantsimp(),\u001b[39;00m\n\u001b[0;32m    666\u001b[0m     \u001b[39m# attempt to solve for func, and apply any other hint specific\u001b[39;00m\n\u001b[0;32m    667\u001b[0m     \u001b[39m# simplifications\u001b[39;00m\n\u001b[0;32m    668\u001b[0m     \u001b[39mif\u001b[39;00m \u001b[39misinstance\u001b[39m(solvefunc, SingleODESolver):\n\u001b[1;32m--> 669\u001b[0m         sols \u001b[39m=\u001b[39m solvefunc\u001b[39m.\u001b[39;49mget_general_solution()\n\u001b[0;32m    670\u001b[0m     \u001b[39melse\u001b[39;00m:\n\u001b[0;32m    671\u001b[0m         sols \u001b[39m=\u001b[39m solvefunc(eq, func, order, match)\n",
      "File \u001b[1;32mc:\\Users\\petan\\anaconda3\\envs\\forVSCode\\lib\\site-packages\\sympy\\solvers\\ode\\single.py:285\u001b[0m, in \u001b[0;36mSingleODESolver.get_general_solution\u001b[1;34m(self, simplify)\u001b[0m\n\u001b[0;32m    283\u001b[0m     msg \u001b[39m=\u001b[39m \u001b[39m\"\u001b[39m\u001b[39m%s\u001b[39;00m\u001b[39m solver cannot solve:\u001b[39m\u001b[39m\\n\u001b[39;00m\u001b[39m%s\u001b[39;00m\u001b[39m\"\u001b[39m\n\u001b[0;32m    284\u001b[0m     \u001b[39mraise\u001b[39;00m ODEMatchError(msg \u001b[39m%\u001b[39m (\u001b[39mself\u001b[39m\u001b[39m.\u001b[39mhint, \u001b[39mself\u001b[39m\u001b[39m.\u001b[39mode_problem\u001b[39m.\u001b[39meq))\n\u001b[1;32m--> 285\u001b[0m \u001b[39mreturn\u001b[39;00m \u001b[39mself\u001b[39;49m\u001b[39m.\u001b[39;49m_get_general_solution(simplify_flag\u001b[39m=\u001b[39;49msimplify)\n",
      "File \u001b[1;32mc:\\Users\\petan\\anaconda3\\envs\\forVSCode\\lib\\site-packages\\sympy\\solvers\\ode\\single.py:909\u001b[0m, in \u001b[0;36mFactorable._get_general_solution\u001b[1;34m(self, simplify_flag)\u001b[0m\n\u001b[0;32m    906\u001b[0m             sols\u001b[39m.\u001b[39mappend(sol)\n\u001b[0;32m    908\u001b[0m \u001b[39mif\u001b[39;00m sols \u001b[39m==\u001b[39m []:\n\u001b[1;32m--> 909\u001b[0m     \u001b[39mraise\u001b[39;00m \u001b[39mNotImplementedError\u001b[39;00m(\u001b[39m\"\u001b[39m\u001b[39mThe given ODE \u001b[39m\u001b[39m\"\u001b[39m \u001b[39m+\u001b[39m \u001b[39mstr\u001b[39m(eq) \u001b[39m+\u001b[39m \u001b[39m\"\u001b[39m\u001b[39m cannot be solved by\u001b[39m\u001b[39m\"\u001b[39m\n\u001b[0;32m    910\u001b[0m         \u001b[39m+\u001b[39m \u001b[39m\"\u001b[39m\u001b[39m the factorable group method\u001b[39m\u001b[39m\"\u001b[39m)\n\u001b[0;32m    911\u001b[0m \u001b[39mreturn\u001b[39;00m sols\n",
      "\u001b[1;31mNotImplementedError\u001b[0m: The given ODE -(-a + Derivative(f(x), (x, 2)))**(1/d)/(b + c*f(x)) + Derivative(f(x), x) cannot be solved by the factorable group method"
     ]
    }
   ],
   "source": [
    "ans = sym.dsolve(eq)\n",
    "ans"
   ]
  },
  {
   "cell_type": "code",
   "execution_count": 48,
   "metadata": {},
   "outputs": [
    {
     "ename": "ValueError",
     "evalue": "The same variable should be used in all univariate expressions being plotted.",
     "output_type": "error",
     "traceback": [
      "\u001b[1;31m---------------------------------------------------------------------------\u001b[0m",
      "\u001b[1;31mValueError\u001b[0m                                Traceback (most recent call last)",
      "\u001b[1;32mc:\\Users\\petan\\Downloads\\application\\07.VSCode_javascript\\SB_maps\\simulation.ipynb セル 7\u001b[0m line \u001b[0;36m<cell line: 1>\u001b[1;34m()\u001b[0m\n\u001b[1;32m----> <a href='vscode-notebook-cell:/c%3A/Users/petan/Downloads/application/07.VSCode_javascript/SB_maps/simulation.ipynb#W6sZmlsZQ%3D%3D?line=0'>1</a>\u001b[0m plot(ans\u001b[39m.\u001b[39;49mrhs, (x, \u001b[39m10\u001b[39;49m, \u001b[39m-\u001b[39;49m\u001b[39m10\u001b[39;49m))\n",
      "File \u001b[1;32mc:\\Users\\petan\\anaconda3\\envs\\forVSCode\\lib\\site-packages\\sympy\\plotting\\plot.py:1861\u001b[0m, in \u001b[0;36mplot\u001b[1;34m(show, *args, **kwargs)\u001b[0m\n\u001b[0;32m   1859\u001b[0m         free \u001b[39m|\u001b[39m\u001b[39m=\u001b[39m a\u001b[39m.\u001b[39mfree_symbols\n\u001b[0;32m   1860\u001b[0m         \u001b[39mif\u001b[39;00m \u001b[39mlen\u001b[39m(free) \u001b[39m>\u001b[39m \u001b[39m1\u001b[39m:\n\u001b[1;32m-> 1861\u001b[0m             \u001b[39mraise\u001b[39;00m \u001b[39mValueError\u001b[39;00m(\n\u001b[0;32m   1862\u001b[0m                 \u001b[39m'\u001b[39m\u001b[39mThe same variable should be used in all \u001b[39m\u001b[39m'\u001b[39m\n\u001b[0;32m   1863\u001b[0m                 \u001b[39m'\u001b[39m\u001b[39munivariate expressions being plotted.\u001b[39m\u001b[39m'\u001b[39m)\n\u001b[0;32m   1864\u001b[0m x \u001b[39m=\u001b[39m free\u001b[39m.\u001b[39mpop() \u001b[39mif\u001b[39;00m free \u001b[39melse\u001b[39;00m Symbol(\u001b[39m'\u001b[39m\u001b[39mx\u001b[39m\u001b[39m'\u001b[39m)\n\u001b[0;32m   1865\u001b[0m kwargs\u001b[39m.\u001b[39msetdefault(\u001b[39m'\u001b[39m\u001b[39mxlabel\u001b[39m\u001b[39m'\u001b[39m, x)\n",
      "\u001b[1;31mValueError\u001b[0m: The same variable should be used in all univariate expressions being plotted."
     ]
    }
   ],
   "source": [
    "plot(ans.rhs, (x, 10, -10))"
   ]
  },
  {
   "cell_type": "code",
   "execution_count": 42,
   "metadata": {},
   "outputs": [
    {
     "ename": "ValueError",
     "evalue": "Couldn't solve for initial conditions",
     "output_type": "error",
     "traceback": [
      "\u001b[1;31m---------------------------------------------------------------------------\u001b[0m",
      "\u001b[1;31mValueError\u001b[0m                                Traceback (most recent call last)",
      "\u001b[1;32mc:\\Users\\petan\\Downloads\\application\\07.VSCode_javascript\\SB_maps\\simulation.ipynb セル 7\u001b[0m line \u001b[0;36m<cell line: 2>\u001b[1;34m()\u001b[0m\n\u001b[0;32m      <a href='vscode-notebook-cell:/c%3A/Users/petan/Downloads/application/07.VSCode_javascript/SB_maps/simulation.ipynb#W5sZmlsZQ%3D%3D?line=0'>1</a>\u001b[0m \u001b[39m#f(0) = 1, f'(0) = 1, f''(0) = 1\u001b[39;00m\n\u001b[1;32m----> <a href='vscode-notebook-cell:/c%3A/Users/petan/Downloads/application/07.VSCode_javascript/SB_maps/simulation.ipynb#W5sZmlsZQ%3D%3D?line=1'>2</a>\u001b[0m ans \u001b[39m=\u001b[39m sym\u001b[39m.\u001b[39;49mdsolve(eq, ics\u001b[39m=\u001b[39;49m{f(\u001b[39m0\u001b[39;49m):\u001b[39m1\u001b[39;49m, f(x)\u001b[39m.\u001b[39;49mdiff(x,\u001b[39m1\u001b[39;49m)\u001b[39m.\u001b[39;49msubs(x, \u001b[39m0\u001b[39;49m):\u001b[39m1\u001b[39;49m})\n\u001b[0;32m      <a href='vscode-notebook-cell:/c%3A/Users/petan/Downloads/application/07.VSCode_javascript/SB_maps/simulation.ipynb#W5sZmlsZQ%3D%3D?line=2'>3</a>\u001b[0m \u001b[39mprint\u001b[39m(ans)\n\u001b[0;32m      <a href='vscode-notebook-cell:/c%3A/Users/petan/Downloads/application/07.VSCode_javascript/SB_maps/simulation.ipynb#W5sZmlsZQ%3D%3D?line=3'>4</a>\u001b[0m ans\n",
      "File \u001b[1;32mc:\\Users\\petan\\anaconda3\\envs\\forVSCode\\lib\\site-packages\\sympy\\solvers\\ode\\ode.py:640\u001b[0m, in \u001b[0;36mdsolve\u001b[1;34m(eq, func, hint, simplify, ics, xi, eta, x0, n, **kwargs)\u001b[0m\n\u001b[0;32m    637\u001b[0m \u001b[39melse\u001b[39;00m:\n\u001b[0;32m    638\u001b[0m     \u001b[39m# The key 'hint' stores the hint needed to be solved for.\u001b[39;00m\n\u001b[0;32m    639\u001b[0m     hint \u001b[39m=\u001b[39m hints[\u001b[39m'\u001b[39m\u001b[39mhint\u001b[39m\u001b[39m'\u001b[39m]\n\u001b[1;32m--> 640\u001b[0m     \u001b[39mreturn\u001b[39;00m _helper_simplify(eq, hint, hints, simplify, ics\u001b[39m=\u001b[39;49mics)\n",
      "File \u001b[1;32mc:\\Users\\petan\\anaconda3\\envs\\forVSCode\\lib\\site-packages\\sympy\\solvers\\ode\\ode.py:695\u001b[0m, in \u001b[0;36m_helper_simplify\u001b[1;34m(eq, hint, match, simplify, ics, **kwargs)\u001b[0m\n\u001b[0;32m    693\u001b[0m \u001b[39mif\u001b[39;00m ics \u001b[39mand\u001b[39;00m \u001b[39m'\u001b[39m\u001b[39mpower_series\u001b[39m\u001b[39m'\u001b[39m \u001b[39mnot\u001b[39;00m \u001b[39min\u001b[39;00m hint:\n\u001b[0;32m    694\u001b[0m     \u001b[39mif\u001b[39;00m \u001b[39misinstance\u001b[39m(rv, (Expr, Eq)):\n\u001b[1;32m--> 695\u001b[0m         solved_constants \u001b[39m=\u001b[39m solve_ics([rv], [r[\u001b[39m'\u001b[39;49m\u001b[39mfunc\u001b[39;49m\u001b[39m'\u001b[39;49m]], cons(rv), ics)\n\u001b[0;32m    696\u001b[0m         rv \u001b[39m=\u001b[39m rv\u001b[39m.\u001b[39msubs(solved_constants)\n\u001b[0;32m    697\u001b[0m     \u001b[39melse\u001b[39;00m:\n",
      "File \u001b[1;32mc:\\Users\\petan\\anaconda3\\envs\\forVSCode\\lib\\site-packages\\sympy\\solvers\\ode\\ode.py:802\u001b[0m, in \u001b[0;36msolve_ics\u001b[1;34m(sols, funcs, constants, ics)\u001b[0m\n\u001b[0;32m    797\u001b[0m \u001b[39m# XXX: We can't differentiate between the solution not existing because of\u001b[39;00m\n\u001b[0;32m    798\u001b[0m \u001b[39m# invalid initial conditions, and not existing because solve is not smart\u001b[39;00m\n\u001b[0;32m    799\u001b[0m \u001b[39m# enough. If we could use solveset, this might be improvable, but for now,\u001b[39;00m\n\u001b[0;32m    800\u001b[0m \u001b[39m# we use NotImplementedError in this case.\u001b[39;00m\n\u001b[0;32m    801\u001b[0m \u001b[39mif\u001b[39;00m \u001b[39mnot\u001b[39;00m solved_constants:\n\u001b[1;32m--> 802\u001b[0m     \u001b[39mraise\u001b[39;00m \u001b[39mValueError\u001b[39;00m(\u001b[39m\"\u001b[39m\u001b[39mCouldn\u001b[39m\u001b[39m'\u001b[39m\u001b[39mt solve for initial conditions\u001b[39m\u001b[39m\"\u001b[39m)\n\u001b[0;32m    804\u001b[0m \u001b[39mif\u001b[39;00m solved_constants \u001b[39m==\u001b[39m \u001b[39mTrue\u001b[39;00m:\n\u001b[0;32m    805\u001b[0m     \u001b[39mraise\u001b[39;00m \u001b[39mValueError\u001b[39;00m(\u001b[39m\"\u001b[39m\u001b[39mInitial conditions did not produce any solutions for constants. Perhaps they are degenerate.\u001b[39m\u001b[39m\"\u001b[39m)\n",
      "\u001b[1;31mValueError\u001b[0m: Couldn't solve for initial conditions"
     ]
    }
   ],
   "source": [
    "#f(0) = 1, f'(0) = 1, f''(0) = 1\n",
    "ans = sym.dsolve(eq, ics={f(0):1, f(x).diff(x,1).subs(x, 0):1})\n",
    "print(ans)\n",
    "ans"
   ]
  },
  {
   "cell_type": "markdown",
   "metadata": {},
   "source": []
  },
  {
   "cell_type": "code",
   "execution_count": 56,
   "metadata": {},
   "outputs": [
    {
     "data": {
      "image/png": "[encoded data removed]",
      "text/latex": [
       "$\\displaystyle \\frac{d^{2}}{d x^{2}} f{\\left(x \\right)} = \\left(\\left(3 f{\\left(x \\right)} + 2\\right) \\frac{d}{d x} f{\\left(x \\right)}\\right)^{2.5} + 1$"
      ],
      "text/plain": [
       "  2                                2.5    \n",
       " d          ⎛             d       ⎞       \n",
       "───(f(x)) = ⎜(3⋅f(x) + 2)⋅──(f(x))⎟    + 1\n",
       "  2         ⎝             dx      ⎠       \n",
       "dx                                        "
      ]
     },
     "execution_count": 56,
     "metadata": {},
     "output_type": "execute_result"
    }
   ],
   "source": [
    "eq = sym.Eq(f(x).diff(x,2), 1+((2+3*f(x))*f(x).diff(x,1))**2.5)\n",
    "eq"
   ]
  },
  {
   "cell_type": "markdown",
   "metadata": {},
   "source": []
  },
  {
   "cell_type": "code",
   "execution_count": 57,
   "metadata": {},
   "outputs": [
    {
     "ename": "NotImplementedError",
     "evalue": "The given ODE 0.25*(3.23606797749979 + 2.35114100916989*I)*(Derivative(f(x), (x, 2)) - 1.0)**(2/5)*(1/(243.0*f(x)**5 + 810.0*f(x)**4 + 1080.0*f(x)**3 + 720.0*f(x)**2 + 240.0*f(x) + 32.0))**(1/5) + Derivative(f(x), x) cannot be solved by the factorable group method",
     "output_type": "error",
     "traceback": [
      "\u001b[1;31m---------------------------------------------------------------------------\u001b[0m",
      "\u001b[1;31mNotImplementedError\u001b[0m                       Traceback (most recent call last)",
      "\u001b[1;32mc:\\Users\\petan\\Downloads\\application\\07.VSCode_javascript\\SB_maps\\simulation.ipynb セル 12\u001b[0m line \u001b[0;36m<cell line: 1>\u001b[1;34m()\u001b[0m\n\u001b[1;32m----> <a href='vscode-notebook-cell:/c%3A/Users/petan/Downloads/application/07.VSCode_javascript/SB_maps/simulation.ipynb#X14sZmlsZQ%3D%3D?line=0'>1</a>\u001b[0m ans \u001b[39m=\u001b[39m sym\u001b[39m.\u001b[39;49mdsolve(eq)\n\u001b[0;32m      <a href='vscode-notebook-cell:/c%3A/Users/petan/Downloads/application/07.VSCode_javascript/SB_maps/simulation.ipynb#X14sZmlsZQ%3D%3D?line=1'>2</a>\u001b[0m ans\n",
      "File \u001b[1;32mc:\\Users\\petan\\anaconda3\\envs\\forVSCode\\lib\\site-packages\\sympy\\solvers\\ode\\ode.py:640\u001b[0m, in \u001b[0;36mdsolve\u001b[1;34m(eq, func, hint, simplify, ics, xi, eta, x0, n, **kwargs)\u001b[0m\n\u001b[0;32m    637\u001b[0m \u001b[39melse\u001b[39;00m:\n\u001b[0;32m    638\u001b[0m     \u001b[39m# The key 'hint' stores the hint needed to be solved for.\u001b[39;00m\n\u001b[0;32m    639\u001b[0m     hint \u001b[39m=\u001b[39m hints[\u001b[39m'\u001b[39m\u001b[39mhint\u001b[39m\u001b[39m'\u001b[39m]\n\u001b[1;32m--> 640\u001b[0m     \u001b[39mreturn\u001b[39;00m _helper_simplify(eq, hint, hints, simplify, ics\u001b[39m=\u001b[39;49mics)\n",
      "File \u001b[1;32mc:\\Users\\petan\\anaconda3\\envs\\forVSCode\\lib\\site-packages\\sympy\\solvers\\ode\\ode.py:669\u001b[0m, in \u001b[0;36m_helper_simplify\u001b[1;34m(eq, hint, match, simplify, ics, **kwargs)\u001b[0m\n\u001b[0;32m    664\u001b[0m \u001b[39mif\u001b[39;00m simplify:\n\u001b[0;32m    665\u001b[0m     \u001b[39m# odesimp() will attempt to integrate, if necessary, apply constantsimp(),\u001b[39;00m\n\u001b[0;32m    666\u001b[0m     \u001b[39m# attempt to solve for func, and apply any other hint specific\u001b[39;00m\n\u001b[0;32m    667\u001b[0m     \u001b[39m# simplifications\u001b[39;00m\n\u001b[0;32m    668\u001b[0m     \u001b[39mif\u001b[39;00m \u001b[39misinstance\u001b[39m(solvefunc, SingleODESolver):\n\u001b[1;32m--> 669\u001b[0m         sols \u001b[39m=\u001b[39m solvefunc\u001b[39m.\u001b[39;49mget_general_solution()\n\u001b[0;32m    670\u001b[0m     \u001b[39melse\u001b[39;00m:\n\u001b[0;32m    671\u001b[0m         sols \u001b[39m=\u001b[39m solvefunc(eq, func, order, match)\n",
      "File \u001b[1;32mc:\\Users\\petan\\anaconda3\\envs\\forVSCode\\lib\\site-packages\\sympy\\solvers\\ode\\single.py:285\u001b[0m, in \u001b[0;36mSingleODESolver.get_general_solution\u001b[1;34m(self, simplify)\u001b[0m\n\u001b[0;32m    283\u001b[0m     msg \u001b[39m=\u001b[39m \u001b[39m\"\u001b[39m\u001b[39m%s\u001b[39;00m\u001b[39m solver cannot solve:\u001b[39m\u001b[39m\\n\u001b[39;00m\u001b[39m%s\u001b[39;00m\u001b[39m\"\u001b[39m\n\u001b[0;32m    284\u001b[0m     \u001b[39mraise\u001b[39;00m ODEMatchError(msg \u001b[39m%\u001b[39m (\u001b[39mself\u001b[39m\u001b[39m.\u001b[39mhint, \u001b[39mself\u001b[39m\u001b[39m.\u001b[39mode_problem\u001b[39m.\u001b[39meq))\n\u001b[1;32m--> 285\u001b[0m \u001b[39mreturn\u001b[39;00m \u001b[39mself\u001b[39;49m\u001b[39m.\u001b[39;49m_get_general_solution(simplify_flag\u001b[39m=\u001b[39;49msimplify)\n",
      "File \u001b[1;32mc:\\Users\\petan\\anaconda3\\envs\\forVSCode\\lib\\site-packages\\sympy\\solvers\\ode\\single.py:909\u001b[0m, in \u001b[0;36mFactorable._get_general_solution\u001b[1;34m(self, simplify_flag)\u001b[0m\n\u001b[0;32m    906\u001b[0m             sols\u001b[39m.\u001b[39mappend(sol)\n\u001b[0;32m    908\u001b[0m \u001b[39mif\u001b[39;00m sols \u001b[39m==\u001b[39m []:\n\u001b[1;32m--> 909\u001b[0m     \u001b[39mraise\u001b[39;00m \u001b[39mNotImplementedError\u001b[39;00m(\u001b[39m\"\u001b[39m\u001b[39mThe given ODE \u001b[39m\u001b[39m\"\u001b[39m \u001b[39m+\u001b[39m \u001b[39mstr\u001b[39m(eq) \u001b[39m+\u001b[39m \u001b[39m\"\u001b[39m\u001b[39m cannot be solved by\u001b[39m\u001b[39m\"\u001b[39m\n\u001b[0;32m    910\u001b[0m         \u001b[39m+\u001b[39m \u001b[39m\"\u001b[39m\u001b[39m the factorable group method\u001b[39m\u001b[39m\"\u001b[39m)\n\u001b[0;32m    911\u001b[0m \u001b[39mreturn\u001b[39;00m sols\n",
      "\u001b[1;31mNotImplementedError\u001b[0m: The given ODE 0.25*(3.23606797749979 + 2.35114100916989*I)*(Derivative(f(x), (x, 2)) - 1.0)**(2/5)*(1/(243.0*f(x)**5 + 810.0*f(x)**4 + 1080.0*f(x)**3 + 720.0*f(x)**2 + 240.0*f(x) + 32.0))**(1/5) + Derivative(f(x), x) cannot be solved by the factorable group method"
     ]
    }
   ],
   "source": [
    "ans = sym.dsolve(eq)\n",
    "ans"
   ]
  },
  {
   "cell_type": "code",
   "execution_count": 63,
   "metadata": {},
   "outputs": [
    {
     "ename": "TypeError",
     "evalue": "Cannot convert expression to float",
     "output_type": "error",
     "traceback": [
      "\u001b[1;31m---------------------------------------------------------------------------\u001b[0m",
      "\u001b[1;31mTypeError\u001b[0m                                 Traceback (most recent call last)",
      "\u001b[1;32mc:\\Users\\petan\\Downloads\\application\\07.VSCode_javascript\\SB_maps\\simulation.ipynb セル 13\u001b[0m line \u001b[0;36m<cell line: 24>\u001b[1;34m()\u001b[0m\n\u001b[0;32m     <a href='vscode-notebook-cell:/c%3A/Users/petan/Downloads/application/07.VSCode_javascript/SB_maps/simulation.ipynb#X16sZmlsZQ%3D%3D?line=26'>27</a>\u001b[0m t0 \u001b[39m=\u001b[39m \u001b[39m0.0\u001b[39m  \u001b[39m#初速度\u001b[39;00m\n\u001b[0;32m     <a href='vscode-notebook-cell:/c%3A/Users/petan/Downloads/application/07.VSCode_javascript/SB_maps/simulation.ipynb#X16sZmlsZQ%3D%3D?line=27'>28</a>\u001b[0m m_init \u001b[39m=\u001b[39m [\u001b[39m100.0\u001b[39m, \u001b[39m0.0\u001b[39m]  \u001b[39m#高さと速度の初期値\u001b[39;00m\n\u001b[1;32m---> <a href='vscode-notebook-cell:/c%3A/Users/petan/Downloads/application/07.VSCode_javascript/SB_maps/simulation.ipynb#X16sZmlsZQ%3D%3D?line=28'>29</a>\u001b[0m m_list \u001b[39m=\u001b[39m odeint(func_motion, m_init, x_list)\n\u001b[0;32m     <a href='vscode-notebook-cell:/c%3A/Users/petan/Downloads/application/07.VSCode_javascript/SB_maps/simulation.ipynb#X16sZmlsZQ%3D%3D?line=29'>30</a>\u001b[0m \u001b[39mprint\u001b[39m(m_list)\n\u001b[0;32m     <a href='vscode-notebook-cell:/c%3A/Users/petan/Downloads/application/07.VSCode_javascript/SB_maps/simulation.ipynb#X16sZmlsZQ%3D%3D?line=31'>32</a>\u001b[0m plot2d(x_list, m_list[:, \u001b[39m0\u001b[39m], \u001b[39m\"\u001b[39m\u001b[39m$x$\u001b[39m\u001b[39m\"\u001b[39m, \u001b[39m\"\u001b[39m\u001b[39m$y(x)$\u001b[39m\u001b[39m\"\u001b[39m)\n",
      "File \u001b[1;32mc:\\Users\\petan\\anaconda3\\envs\\forVSCode\\lib\\site-packages\\scipy\\integrate\\_odepack_py.py:242\u001b[0m, in \u001b[0;36modeint\u001b[1;34m(func, y0, t, args, Dfun, col_deriv, full_output, ml, mu, rtol, atol, tcrit, h0, hmax, hmin, ixpr, mxstep, mxhnil, mxordn, mxords, printmessg, tfirst)\u001b[0m\n\u001b[0;32m    240\u001b[0m t \u001b[39m=\u001b[39m copy(t)\n\u001b[0;32m    241\u001b[0m y0 \u001b[39m=\u001b[39m copy(y0)\n\u001b[1;32m--> 242\u001b[0m output \u001b[39m=\u001b[39m _odepack\u001b[39m.\u001b[39;49modeint(func, y0, t, args, Dfun, col_deriv, ml, mu,\n\u001b[0;32m    243\u001b[0m                          full_output, rtol, atol, tcrit, h0, hmax, hmin,\n\u001b[0;32m    244\u001b[0m                          ixpr, mxstep, mxhnil, mxordn, mxords,\n\u001b[0;32m    245\u001b[0m                          \u001b[39mint\u001b[39;49m(\u001b[39mbool\u001b[39;49m(tfirst)))\n\u001b[0;32m    246\u001b[0m \u001b[39mif\u001b[39;00m output[\u001b[39m-\u001b[39m\u001b[39m1\u001b[39m] \u001b[39m<\u001b[39m \u001b[39m0\u001b[39m:\n\u001b[0;32m    247\u001b[0m     warning_msg \u001b[39m=\u001b[39m _msgs[output[\u001b[39m-\u001b[39m\u001b[39m1\u001b[39m]] \u001b[39m+\u001b[39m \u001b[39m\"\u001b[39m\u001b[39m Run with full_output = 1 to get quantitative information.\u001b[39m\u001b[39m\"\u001b[39m\n",
      "File \u001b[1;32mc:\\Users\\petan\\anaconda3\\envs\\forVSCode\\lib\\site-packages\\sympy\\core\\expr.py:351\u001b[0m, in \u001b[0;36mExpr.__float__\u001b[1;34m(self)\u001b[0m\n\u001b[0;32m    349\u001b[0m \u001b[39mif\u001b[39;00m result\u001b[39m.\u001b[39mis_number \u001b[39mand\u001b[39;00m result\u001b[39m.\u001b[39mas_real_imag()[\u001b[39m1\u001b[39m]:\n\u001b[0;32m    350\u001b[0m     \u001b[39mraise\u001b[39;00m \u001b[39mTypeError\u001b[39;00m(\u001b[39m\"\u001b[39m\u001b[39mCannot convert complex to float\u001b[39m\u001b[39m\"\u001b[39m)\n\u001b[1;32m--> 351\u001b[0m \u001b[39mraise\u001b[39;00m \u001b[39mTypeError\u001b[39;00m(\u001b[39m\"\u001b[39m\u001b[39mCannot convert expression to float\u001b[39m\u001b[39m\"\u001b[39m)\n",
      "\u001b[1;31mTypeError\u001b[0m: Cannot convert expression to float"
     ]
    }
   ],
   "source": [
    "import numpy as np\n",
    "from scipy.integrate import odeint\n",
    "import matplotlib.pyplot as plt\n",
    "\n",
    "\n",
    "#2階常微分方程式（運動方程式、自由落下）\n",
    "def func_motion(t, x):\n",
    "    dydx = t[1]\n",
    "    dtdx = 1+((3*y + 2)*dydx)**2.5\n",
    "    return [dydx, dtdx]\n",
    "\n",
    "\n",
    "#2d可視化\n",
    "def plot2d(x_list, y_list, x_label, y_label):\n",
    "    plt.xlabel(x_label)  #x軸の名前\n",
    "    plt.ylabel(y_label)  #y軸の名前\n",
    "    plt.grid()  #点線の目盛りを表示\n",
    "    plt.plot(x_list, y_list)\n",
    "\n",
    "    plt.show()\n",
    "\n",
    "\n",
    "#メイン実行部\n",
    "if (__name__ == '__main__'):\n",
    "    #2階常微分方程式（運動方程式、自由落下）\n",
    "    x_list = np.linspace(0.0, 10.0, 1000)\n",
    "    t0 = 0.0  #初速度\n",
    "    m_init = [100.0, 0.0]  #高さと速度の初期値\n",
    "    m_list = odeint(func_motion, m_init, x_list)\n",
    "    print(m_list)\n",
    "\n",
    "    plot2d(x_list, m_list[:, 0], \"$x$\", \"$y(x)$\")\n",
    "    plot2d(x_list, m_list[:, 1], \"$x$\", \"$t(x)$\")"
   ]
  },
  {
   "cell_type": "code",
   "execution_count": 59,
   "metadata": {},
   "outputs": [
    {
     "name": "stdout",
     "output_type": "stream",
     "text": [
      "Collecting scipy\n",
      "  Downloading scipy-1.11.4-cp39-cp39-win_amd64.whl (44.3 MB)\n",
      "Requirement already satisfied: numpy<1.28.0,>=1.21.6 in c:\\users\\petan\\anaconda3\\envs\\forvscode\\lib\\site-packages (from scipy) (1.22.3)\n",
      "Installing collected packages: scipy\n",
      "Successfully installed scipy-1.11.4\n"
     ]
    }
   ],
   "source": [
    "!pip install scipy"
   ]
  },
  {
   "cell_type": "code",
   "execution_count": null,
   "metadata": {},
   "outputs": [],
   "source": []
  }
 ],
 "metadata": {
  "kernelspec": {
   "display_name": "forVSCode",
   "language": "python",
   "name": "python3"
  },
  "language_info": {
   "codemirror_mode": {
    "name": "ipython",
    "version": 3
   },
   "file_extension": ".py",
   "mimetype": "text/x-python",
   "name": "python",
   "nbconvert_exporter": "python",
   "pygments_lexer": "ipython3",
   "version": "3.9.7"
  }
 },
 "nbformat": 4,
 "nbformat_minor": 2
}
