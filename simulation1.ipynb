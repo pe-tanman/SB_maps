{
 "cells": [
  {
   "cell_type": "code",
   "execution_count": 4,
   "metadata": {},
   "outputs": [
    {
     "ename": "TypeError",
     "evalue": "'float' object is not subscriptable",
     "output_type": "error",
     "traceback": [
      "\u001b[1;31m---------------------------------------------------------------------------\u001b[0m",
      "\u001b[1;31mTypeError\u001b[0m                                 Traceback (most recent call last)",
      "\u001b[1;32mc:\\Users\\petan\\Downloads\\application\\07.VSCode_javascript\\SB_maps\\simulation1.ipynb セル 1\u001b[0m line \u001b[0;36m<cell line: 24>\u001b[1;34m()\u001b[0m\n\u001b[0;32m     <a href='vscode-notebook-cell:/c%3A/Users/petan/Downloads/application/07.VSCode_javascript/SB_maps/simulation1.ipynb#W0sZmlsZQ%3D%3D?line=26'>27</a>\u001b[0m t0 \u001b[39m=\u001b[39m \u001b[39m0\u001b[39m  \u001b[39m#初速度\u001b[39;00m\n\u001b[0;32m     <a href='vscode-notebook-cell:/c%3A/Users/petan/Downloads/application/07.VSCode_javascript/SB_maps/simulation1.ipynb#W0sZmlsZQ%3D%3D?line=27'>28</a>\u001b[0m m_init \u001b[39m=\u001b[39m [\u001b[39m100.0\u001b[39m, \u001b[39m0.0\u001b[39m]  \u001b[39m#高さと速度の初期値\u001b[39;00m\n\u001b[1;32m---> <a href='vscode-notebook-cell:/c%3A/Users/petan/Downloads/application/07.VSCode_javascript/SB_maps/simulation1.ipynb#W0sZmlsZQ%3D%3D?line=28'>29</a>\u001b[0m m_list \u001b[39m=\u001b[39m odeint(func_motion, m_init, x_list)\n\u001b[0;32m     <a href='vscode-notebook-cell:/c%3A/Users/petan/Downloads/application/07.VSCode_javascript/SB_maps/simulation1.ipynb#W0sZmlsZQ%3D%3D?line=29'>30</a>\u001b[0m \u001b[39mprint\u001b[39m(m_list)\n\u001b[0;32m     <a href='vscode-notebook-cell:/c%3A/Users/petan/Downloads/application/07.VSCode_javascript/SB_maps/simulation1.ipynb#W0sZmlsZQ%3D%3D?line=31'>32</a>\u001b[0m plot2d(x_list, m_list[:, \u001b[39m0\u001b[39m], \u001b[39m\"\u001b[39m\u001b[39m$x$\u001b[39m\u001b[39m\"\u001b[39m, \u001b[39m\"\u001b[39m\u001b[39m$y(x)$\u001b[39m\u001b[39m\"\u001b[39m)\n",
      "File \u001b[1;32mc:\\Users\\petan\\anaconda3\\envs\\forVSCode\\lib\\site-packages\\scipy\\integrate\\_odepack_py.py:242\u001b[0m, in \u001b[0;36modeint\u001b[1;34m(func, y0, t, args, Dfun, col_deriv, full_output, ml, mu, rtol, atol, tcrit, h0, hmax, hmin, ixpr, mxstep, mxhnil, mxordn, mxords, printmessg, tfirst)\u001b[0m\n\u001b[0;32m    240\u001b[0m t \u001b[39m=\u001b[39m copy(t)\n\u001b[0;32m    241\u001b[0m y0 \u001b[39m=\u001b[39m copy(y0)\n\u001b[1;32m--> 242\u001b[0m output \u001b[39m=\u001b[39m _odepack\u001b[39m.\u001b[39;49modeint(func, y0, t, args, Dfun, col_deriv, ml, mu,\n\u001b[0;32m    243\u001b[0m                          full_output, rtol, atol, tcrit, h0, hmax, hmin,\n\u001b[0;32m    244\u001b[0m                          ixpr, mxstep, mxhnil, mxordn, mxords,\n\u001b[0;32m    245\u001b[0m                          \u001b[39mint\u001b[39;49m(\u001b[39mbool\u001b[39;49m(tfirst)))\n\u001b[0;32m    246\u001b[0m \u001b[39mif\u001b[39;00m output[\u001b[39m-\u001b[39m\u001b[39m1\u001b[39m] \u001b[39m<\u001b[39m \u001b[39m0\u001b[39m:\n\u001b[0;32m    247\u001b[0m     warning_msg \u001b[39m=\u001b[39m _msgs[output[\u001b[39m-\u001b[39m\u001b[39m1\u001b[39m]] \u001b[39m+\u001b[39m \u001b[39m\"\u001b[39m\u001b[39m Run with full_output = 1 to get quantitative information.\u001b[39m\u001b[39m\"\u001b[39m\n",
      "\u001b[1;32mc:\\Users\\petan\\Downloads\\application\\07.VSCode_javascript\\SB_maps\\simulation1.ipynb セル 1\u001b[0m line \u001b[0;36mfunc_motion\u001b[1;34m(y, t)\u001b[0m\n\u001b[0;32m      <a href='vscode-notebook-cell:/c%3A/Users/petan/Downloads/application/07.VSCode_javascript/SB_maps/simulation1.ipynb#W0sZmlsZQ%3D%3D?line=6'>7</a>\u001b[0m \u001b[39mdef\u001b[39;00m \u001b[39mfunc_motion\u001b[39m(y, t):\n\u001b[1;32m----> <a href='vscode-notebook-cell:/c%3A/Users/petan/Downloads/application/07.VSCode_javascript/SB_maps/simulation1.ipynb#W0sZmlsZQ%3D%3D?line=7'>8</a>\u001b[0m     dydx \u001b[39m=\u001b[39m t[\u001b[39m1\u001b[39;49m]\n\u001b[0;32m      <a href='vscode-notebook-cell:/c%3A/Users/petan/Downloads/application/07.VSCode_javascript/SB_maps/simulation1.ipynb#W0sZmlsZQ%3D%3D?line=8'>9</a>\u001b[0m     dtdx \u001b[39m=\u001b[39m \u001b[39m1\u001b[39m\u001b[39m+\u001b[39m((\u001b[39m3\u001b[39m\u001b[39m*\u001b[39my \u001b[39m+\u001b[39m \u001b[39m2\u001b[39m)\u001b[39m*\u001b[39mdydx)\u001b[39m*\u001b[39m\u001b[39m*\u001b[39m\u001b[39m2\u001b[39m\n\u001b[0;32m     <a href='vscode-notebook-cell:/c%3A/Users/petan/Downloads/application/07.VSCode_javascript/SB_maps/simulation1.ipynb#W0sZmlsZQ%3D%3D?line=9'>10</a>\u001b[0m     \u001b[39mreturn\u001b[39;00m [dydx, dtdx]\n",
      "\u001b[1;31mTypeError\u001b[0m: 'float' object is not subscriptable"
     ]
    }
   ],
   "source": [
    "import numpy as np\n",
    "from scipy.integrate import odeint\n",
    "import matplotlib.pyplot as plt\n",
    "\n",
    "\n",
    "#2階常微分方程式（運動方程式、自由落下）\n",
    "def func_motion(y, t):\n",
    "    dydx = t[1]\n",
    "    dtdx = 1+((3*y + 2)*dydx)**2\n",
    "    return [dydx, dtdx]\n",
    "\n",
    "\n",
    "#2d可視化\n",
    "def plot2d(x_list, y_list, x_label, y_label):\n",
    "    plt.xlabel(x_label)  #x軸の名前\n",
    "    plt.ylabel(y_label)  #y軸の名前\n",
    "    plt.grid()  #点線の目盛りを表示\n",
    "    plt.plot(x_list, y_list)\n",
    "\n",
    "    plt.show()\n",
    "\n",
    "\n",
    "#メイン実行部\n",
    "if (__name__ == '__main__'):\n",
    "    #2階常微分方程式（運動方程式、自由落下）\n",
    "    x_list = np.linspace(0.0, 10.0, 1000)\n",
    "    t0 = 0  #初速度\n",
    "    m_init = [100.0, 0.0]  #高さと速度の初期値\n",
    "    m_list = odeint(func_motion, m_init, x_list)\n",
    "    print(m_list)\n",
    "\n",
    "    plot2d(x_list, m_list[:, 0], \"$x$\", \"$y(x)$\")\n",
    "    plot2d(x_list, m_list[:, 1], \"$x$\", \"$t(x)$\")"
   ]
  },
  {
   "cell_type": "code",
   "execution_count": null,
   "metadata": {},
   "outputs": [],
   "source": []
  }
 ],
 "metadata": {
  "kernelspec": {
   "display_name": "forVSCode",
   "language": "python",
   "name": "python3"
  },
  "language_info": {
   "codemirror_mode": {
    "name": "ipython",
    "version": 3
   },
   "file_extension": ".py",
   "mimetype": "text/x-python",
   "name": "python",
   "nbconvert_exporter": "python",
   "pygments_lexer": "ipython3",
   "version": "3.9.7"
  }
 },
 "nbformat": 4,
 "nbformat_minor": 2
}
